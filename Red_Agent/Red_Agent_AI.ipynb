{
 "cells": [
  {
   "cell_type": "code",
   "execution_count": 1,
   "id": "4ff106c0",
   "metadata": {
    "ExecuteTime": {
     "end_time": "2025-05-08T11:37:42.861853Z",
     "start_time": "2025-05-08T11:37:42.567285Z"
    }
   },
   "outputs": [],
   "source": [
    "import json\n",
    "import requests\n",
    "from gpt4all import GPT4All\n"
   ]
  },
  {
   "cell_type": "code",
   "execution_count": null,
   "id": "a69574fe",
   "metadata": {
    "ExecuteTime": {
     "end_time": "2025-05-08T12:22:41.873388Z",
     "start_time": "2025-05-08T12:22:38.582504Z"
    }
   },
   "outputs": [
    {
     "name": "stdout",
     "output_type": "stream",
     "text": [
      " Sure, I'd be happy to help! Can you please provide more information about what type of flower you are interested in learning about? There are many different types of flowers, and their diseases can vary as well.\n"
     ]
    }
   ],
   "source": [
    "# Question to ask the model\n",
    "question = \"Can you give me 3 types of flowers and their most common diseases?\"\n",
    "\n",
    "# Configuration of the local Ollama API URL\n",
    "OLLAMA_URL = \"http://localhost:11434/api/generate\"\n",
    "\n",
    "# Exact name of the model installed with Ollama\n",
    "model_name = \"nous-hermes\"  # replace with the exact name if different\n",
    "\n",
    "# POST request to Ollama API\n",
    "response = requests.post(OLLAMA_URL, json={\n",
    "    \"model\": model_name,\n",
    "    \"prompt\": question,\n",
    "    \"stream\": False  # Set to True if you want the response in streaming mode\n",
    "})\n",
    "\n",
    "# Retrieving the response\n",
    "if response.ok:\n",
    "    data = response.json()\n",
    "    print(data[\"response\"])\n",
    "else:\n",
    "    print(f\"Error: {response.status_code} - {response.text}\")\n",
    "\n",
    "'''\n",
    "#To use this code, you must download gtp4all and download the model \"qwen2 1_5b instruct\"\n",
    "\n",
    "\n",
    "#question = \"Act as a red agent in a cybersecurity context. Your goal is to disrupt a traffic simulation environment built with UXSIM. Propose and implement realistic cyber-attacks (such as DDoS, false demand injection, traffic signal manipulation, or data tampering) that can interfere with vehicle flow or deceive the traffic control logic. For each attack, provide a clear explanation of the objective, the attack method, and a working Python code snippet that integrates with the UXSIM framework.\"\n",
    "question = \"Can you give me 3 types of flowers and there more common diseases?\"\n",
    "\n",
    "# Send the request to ChatGPT\n",
    "model = GPT4All(\"nous-hermes-2-mistral-7b-dpo.Q4_0.gguf\")\n",
    "\n",
    "model.open()\n",
    "response=model.generate(question)\n",
    "\n",
    "# Print the result\n",
    "print(response)\n",
    "'''"
   ]
  }
 ],
 "metadata": {
  "kernelspec": {
   "display_name": "Python 3",
   "language": "python",
   "name": "python3"
  },
  "language_info": {
   "codemirror_mode": {
    "name": "ipython",
    "version": 3
   },
   "file_extension": ".py",
   "mimetype": "text/x-python",
   "name": "python",
   "nbconvert_exporter": "python",
   "pygments_lexer": "ipython3",
   "version": "3.11.9"
  }
 },
 "nbformat": 4,
 "nbformat_minor": 5
}

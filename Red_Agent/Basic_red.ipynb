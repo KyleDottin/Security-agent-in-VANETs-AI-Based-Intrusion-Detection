{
 "cells": [
  {
   "cell_type": "code",
   "execution_count": 1,
   "id": "4ff106c0",
   "metadata": {},
   "outputs": [
    {
     "name": "stderr",
     "output_type": "stream",
     "text": [
      "C:\\Users\\nanem\\AppData\\Local\\Packages\\PythonSoftwareFoundation.Python.3.11_qbz5n2kfra8p0\\LocalCache\\local-packages\\Python311\\site-packages\\tqdm\\auto.py:21: TqdmWarning: IProgress not found. Please update jupyter and ipywidgets. See https://ipywidgets.readthedocs.io/en/stable/user_install.html\n",
      "  from .autonotebook import tqdm as notebook_tqdm\n"
     ]
    }
   ],
   "source": [
    "import random\n",
    "import time\n",
    "from uxsim import *\n",
    "from IPython.display import display, Image"
   ]
  },
  {
   "cell_type": "code",
   "execution_count": 2,
   "id": "8023eb27",
   "metadata": {},
   "outputs": [],
   "source": [
    "# Initialize simulation world\n",
    "W = World(\n",
    "    name=\"ddos_demo\",  # Scenario name\n",
    "    deltan=5,  # Simulation aggregation unit\n",
    "    tmax=1200,  # Total simulation time\n",
    "    print_mode=1,  # Print simulation progress\n",
    "    save_mode=1,  # Save results\n",
    "    show_mode=1,  # Show visualization\n",
    "    random_seed=0  # Set random seed for repeatability\n",
    ")\n"
   ]
  },
  {
   "cell_type": "code",
   "execution_count": 3,
   "id": "ac1536b4",
   "metadata": {},
   "outputs": [],
   "source": [
    "# Create nodes\n",
    "W.addNode(\"orig1\", 0, 0)\n",
    "W.addNode(\"orig2\", 0, 2)\n",
    "node_signal = W.addNode(\"merge\", 1, 1, signal=[30, 60])  # Add signal phases\n",
    "W.addNode(\"dest\", 2, 1)\n",
    "\n",
    "# Add links and assign signal groups for dynamic traffic light\n",
    "W.addLink(\"link1\", \"orig1\", \"merge\", length=1000, free_flow_speed=20,\n",
    "          number_of_lanes=1, merge_priority=0.5, signal_group=0)\n",
    "W.addLink(\"link2\", \"orig2\", \"merge\", length=1000, free_flow_speed=20,\n",
    "          number_of_lanes=1, merge_priority=2, signal_group=1)\n",
    "W.addLink(\"link3\", \"merge\", \"dest\", length=1000, free_flow_speed=20,\n",
    "          number_of_lanes=1)\n",
    "\n",
    "# Define demand\n",
    "W.adddemand(\"orig1\", \"dest\", 0, 1000, 1)\n",
    "W.adddemand(\"orig2\", \"dest\", 500, 1000, 2)"
   ]
  },
  {
   "cell_type": "code",
   "execution_count": 6,
   "id": "70d1973e",
   "metadata": {},
   "outputs": [],
   "source": [
    "# DDoS Red Agent Simulation: Flooding with irrelevant requests\n",
    "def red_agent_ddos():\n",
    "    \"\"\"Simulate a DDoS attack by flooding the system with fake requests.\"\"\"\n",
    "    if int(W.TIME) % 50 == 0:  # Every 50 seconds simulate a DDoS attack\n",
    "        num_requests = random.randint(10, 100)  # Simulate a random number of fake requests\n",
    "        for _ in range(num_requests):\n",
    "            random_link = random.choice(list(W.LINKS))  # Correctly pick a random link from LINK values\n",
    "            random_phase = random.choice([0, 1])  # Randomly pick a signal phase (0 or 1)\n",
    "\n",
    "            # Simulating DDoS: Randomly assign the signal group phase to disrupt normal flow\n",
    "            if hasattr(random_link, 'signal_group'):\n",
    "                random_link.signal_group = random_phase  # Alter signal group phase\n",
    "\n",
    "            print(\n",
    "                f\"Red agent DDoS at t = {W.TIME}: Attacking signal phase on {random_link.name}, new phase = {random_phase}\")"
   ]
  },
  {
   "cell_type": "code",
   "execution_count": null,
   "id": "6759ab37",
   "metadata": {},
   "outputs": [
    {
     "ename": "TypeError",
     "evalue": "argument of type 'int' is not iterable",
     "output_type": "error",
     "traceback": [
      "\u001b[31m---------------------------------------------------------------------------\u001b[39m",
      "\u001b[31mTypeError\u001b[39m                                 Traceback (most recent call last)",
      "\u001b[36mCell\u001b[39m\u001b[36m \u001b[39m\u001b[32mIn[10]\u001b[39m\u001b[32m, line 3\u001b[39m\n\u001b[32m      1\u001b[39m \u001b[38;5;66;03m# Execute simulation in steps for dynamic signal logic\u001b[39;00m\n\u001b[32m      2\u001b[39m \u001b[38;5;28;01mwhile\u001b[39;00m W.check_simulation_ongoing():\n\u001b[32m----> \u001b[39m\u001b[32m3\u001b[39m     \u001b[43mW\u001b[49m\u001b[43m.\u001b[49m\u001b[43mexec_simulation\u001b[49m\u001b[43m(\u001b[49m\u001b[43mduration_t2\u001b[49m\u001b[43m=\u001b[49m\u001b[32;43m10.0\u001b[39;49m\u001b[43m)\u001b[49m  \u001b[38;5;66;03m# Advance simulation by 10s\u001b[39;00m\n\u001b[32m      5\u001b[39m     \u001b[38;5;66;03m# DDoS attack initiated by the red agent\u001b[39;00m\n\u001b[32m      6\u001b[39m     red_agent_ddos()\n",
      "\u001b[36mFile \u001b[39m\u001b[32m~\\AppData\\Local\\Packages\\PythonSoftwareFoundation.Python.3.11_qbz5n2kfra8p0\\LocalCache\\local-packages\\Python311\\site-packages\\uxsim\\uxsim.py:2217\u001b[39m, in \u001b[36mWorld.exec_simulation\u001b[39m\u001b[34m(W, until_t, duration_t, duration_t2)\u001b[39m\n\u001b[32m   2214\u001b[39m     node.update()\n\u001b[32m   2216\u001b[39m \u001b[38;5;28;01mfor\u001b[39;00m node \u001b[38;5;129;01min\u001b[39;00m W.NODES:\n\u001b[32m-> \u001b[39m\u001b[32m2217\u001b[39m     \u001b[43mnode\u001b[49m\u001b[43m.\u001b[49m\u001b[43mtransfer\u001b[49m\u001b[43m(\u001b[49m\u001b[43m)\u001b[49m\n\u001b[32m   2219\u001b[39m \u001b[38;5;28;01mfor\u001b[39;00m veh \u001b[38;5;129;01min\u001b[39;00m W.VEHICLES_RUNNING.values():\n\u001b[32m   2220\u001b[39m     veh.carfollow()\n",
      "\u001b[36mFile \u001b[39m\u001b[32m~\\AppData\\Local\\Packages\\PythonSoftwareFoundation.Python.3.11_qbz5n2kfra8p0\\LocalCache\\local-packages\\Python311\\site-packages\\uxsim\\uxsim.py:258\u001b[39m, in \u001b[36mNode.transfer\u001b[39m\u001b[34m(s)\u001b[39m\n\u001b[32m    255\u001b[39m \u001b[38;5;28;01mfor\u001b[39;00m outlink \u001b[38;5;129;01min\u001b[39;00m outlinks: \n\u001b[32m    256\u001b[39m     \u001b[38;5;28;01mif\u001b[39;00m (\u001b[38;5;28mlen\u001b[39m(outlink.vehicles) < outlink.number_of_lanes \u001b[38;5;129;01mor\u001b[39;00m outlink.vehicles[-outlink.number_of_lanes].x > outlink.delta_per_lane*s.W.DELTAN) \u001b[38;5;129;01mand\u001b[39;00m outlink.capacity_in_remain >= s.W.DELTAN \u001b[38;5;129;01mand\u001b[39;00m s.flow_capacity_remain >= s.W.DELTAN:\n\u001b[32m    257\u001b[39m         \u001b[38;5;66;03m#受け入れ可能かつ流出可能の場合，リンク優先度に応じて選択\u001b[39;00m\n\u001b[32m--> \u001b[39m\u001b[32m258\u001b[39m         vehs = \u001b[43m[\u001b[49m\n\u001b[32m    259\u001b[39m \u001b[43m            \u001b[49m\u001b[43mveh\u001b[49m\u001b[43m \u001b[49m\u001b[38;5;28;43;01mfor\u001b[39;49;00m\u001b[43m \u001b[49m\u001b[43mveh\u001b[49m\u001b[43m \u001b[49m\u001b[38;5;129;43;01min\u001b[39;49;00m\u001b[43m \u001b[49m\u001b[43ms\u001b[49m\u001b[43m.\u001b[49m\u001b[43mincoming_vehicles\u001b[49m\u001b[43m \u001b[49m\n\u001b[32m    260\u001b[39m \u001b[43m            \u001b[49m\u001b[38;5;28;43;01mif\u001b[39;49;00m\u001b[43m \u001b[49m\u001b[43mveh\u001b[49m\u001b[43m \u001b[49m\u001b[43m==\u001b[49m\u001b[43m \u001b[49m\u001b[43mveh\u001b[49m\u001b[43m.\u001b[49m\u001b[43mlink\u001b[49m\u001b[43m.\u001b[49m\u001b[43mvehicles\u001b[49m\u001b[43m[\u001b[49m\u001b[32;43m0\u001b[39;49m\u001b[43m]\u001b[49m\u001b[43m \u001b[49m\u001b[38;5;129;43;01mand\u001b[39;49;00m\u001b[43m \u001b[49m\u001b[38;5;66;43;03m#送り出しリンクで先頭車線の車両\u001b[39;49;00m\n\u001b[32m    261\u001b[39m \u001b[43m            \u001b[49m\u001b[43mveh\u001b[49m\u001b[43m.\u001b[49m\u001b[43mroute_next_link\u001b[49m\u001b[43m \u001b[49m\u001b[43m==\u001b[49m\u001b[43m \u001b[49m\u001b[43moutlink\u001b[49m\u001b[43m \u001b[49m\u001b[38;5;129;43;01mand\u001b[39;49;00m\u001b[43m \u001b[49m\u001b[38;5;66;43;03m#行先リンクが受け入れリンク\u001b[39;49;00m\n\u001b[32m    262\u001b[39m \u001b[43m            \u001b[49m\u001b[43m(\u001b[49m\u001b[43ms\u001b[49m\u001b[43m.\u001b[49m\u001b[43msignal_phase\u001b[49m\u001b[43m \u001b[49m\u001b[38;5;129;43;01min\u001b[39;49;00m\u001b[43m \u001b[49m\u001b[43mveh\u001b[49m\u001b[43m.\u001b[49m\u001b[43mlink\u001b[49m\u001b[43m.\u001b[49m\u001b[43msignal_group\u001b[49m\u001b[43m \u001b[49m\u001b[38;5;129;43;01mor\u001b[39;49;00m\u001b[43m \u001b[49m\u001b[38;5;28;43mlen\u001b[39;49m\u001b[43m(\u001b[49m\u001b[43ms\u001b[49m\u001b[43m.\u001b[49m\u001b[43msignal\u001b[49m\u001b[43m)\u001b[49m\u001b[43m<\u001b[49m\u001b[43m=\u001b[49m\u001b[32;43m1\u001b[39;49m\u001b[43m)\u001b[49m\u001b[43m \u001b[49m\u001b[38;5;129;43;01mand\u001b[39;49;00m\u001b[43m \u001b[49m\u001b[38;5;66;43;03m#信号が合致\u001b[39;49;00m\n\u001b[32m    263\u001b[39m \u001b[43m            \u001b[49m\u001b[43mveh\u001b[49m\u001b[43m.\u001b[49m\u001b[43mlink\u001b[49m\u001b[43m.\u001b[49m\u001b[43mcapacity_out_remain\u001b[49m\u001b[43m \u001b[49m\u001b[43m>\u001b[49m\u001b[43m=\u001b[49m\u001b[43m \u001b[49m\u001b[43ms\u001b[49m\u001b[43m.\u001b[49m\u001b[43mW\u001b[49m\u001b[43m.\u001b[49m\u001b[43mDELTAN\u001b[49m\n\u001b[32m    264\u001b[39m \u001b[43m        \u001b[49m\u001b[43m]\u001b[49m \n\u001b[32m    265\u001b[39m         \u001b[38;5;28;01mif\u001b[39;00m \u001b[38;5;28mlen\u001b[39m(vehs) == \u001b[32m0\u001b[39m:\n\u001b[32m    266\u001b[39m             \u001b[38;5;28;01mcontinue\u001b[39;00m\n",
      "\u001b[36mFile \u001b[39m\u001b[32m~\\AppData\\Local\\Packages\\PythonSoftwareFoundation.Python.3.11_qbz5n2kfra8p0\\LocalCache\\local-packages\\Python311\\site-packages\\uxsim\\uxsim.py:262\u001b[39m, in \u001b[36m<listcomp>\u001b[39m\u001b[34m(.0)\u001b[39m\n\u001b[32m    255\u001b[39m \u001b[38;5;28;01mfor\u001b[39;00m outlink \u001b[38;5;129;01min\u001b[39;00m outlinks: \n\u001b[32m    256\u001b[39m     \u001b[38;5;28;01mif\u001b[39;00m (\u001b[38;5;28mlen\u001b[39m(outlink.vehicles) < outlink.number_of_lanes \u001b[38;5;129;01mor\u001b[39;00m outlink.vehicles[-outlink.number_of_lanes].x > outlink.delta_per_lane*s.W.DELTAN) \u001b[38;5;129;01mand\u001b[39;00m outlink.capacity_in_remain >= s.W.DELTAN \u001b[38;5;129;01mand\u001b[39;00m s.flow_capacity_remain >= s.W.DELTAN:\n\u001b[32m    257\u001b[39m         \u001b[38;5;66;03m#受け入れ可能かつ流出可能の場合，リンク優先度に応じて選択\u001b[39;00m\n\u001b[32m    258\u001b[39m         vehs = [\n\u001b[32m    259\u001b[39m             veh \u001b[38;5;28;01mfor\u001b[39;00m veh \u001b[38;5;129;01min\u001b[39;00m s.incoming_vehicles \n\u001b[32m    260\u001b[39m             \u001b[38;5;28;01mif\u001b[39;00m veh == veh.link.vehicles[\u001b[32m0\u001b[39m] \u001b[38;5;129;01mand\u001b[39;00m \u001b[38;5;66;03m#送り出しリンクで先頭車線の車両\u001b[39;00m\n\u001b[32m    261\u001b[39m             veh.route_next_link == outlink \u001b[38;5;129;01mand\u001b[39;00m \u001b[38;5;66;03m#行先リンクが受け入れリンク\u001b[39;00m\n\u001b[32m--> \u001b[39m\u001b[32m262\u001b[39m             (\u001b[43ms\u001b[49m\u001b[43m.\u001b[49m\u001b[43msignal_phase\u001b[49m\u001b[43m \u001b[49m\u001b[38;5;129;43;01min\u001b[39;49;00m\u001b[43m \u001b[49m\u001b[43mveh\u001b[49m\u001b[43m.\u001b[49m\u001b[43mlink\u001b[49m\u001b[43m.\u001b[49m\u001b[43msignal_group\u001b[49m \u001b[38;5;129;01mor\u001b[39;00m \u001b[38;5;28mlen\u001b[39m(s.signal)<=\u001b[32m1\u001b[39m) \u001b[38;5;129;01mand\u001b[39;00m \u001b[38;5;66;03m#信号が合致\u001b[39;00m\n\u001b[32m    263\u001b[39m             veh.link.capacity_out_remain >= s.W.DELTAN\n\u001b[32m    264\u001b[39m         ] \n\u001b[32m    265\u001b[39m         \u001b[38;5;28;01mif\u001b[39;00m \u001b[38;5;28mlen\u001b[39m(vehs) == \u001b[32m0\u001b[39m:\n\u001b[32m    266\u001b[39m             \u001b[38;5;28;01mcontinue\u001b[39;00m\n",
      "\u001b[31mTypeError\u001b[39m: argument of type 'int' is not iterable"
     ]
    }
   ],
   "source": [
    "# Execute simulation in steps for dynamic signal logic\n",
    "while W.check_simulation_ongoing():\n",
    "    W.exec_simulation(duration_t2=float(10))  # Advance simulation by 10s\n",
    "\n",
    "    # DDoS attack initiated by the red agent\n",
    "    red_agent_ddos()\n",
    "\n",
    "    # Display simulation status every 100 seconds\n",
    "    if int(W.TIME) % 100 == 0:\n",
    "        print(f\"t = {W.TIME} s; Signal phase = {node_signal.signal_phase}\")\n",
    "\n",
    "# Visualization\n",
    "W.analyzer.network_fancy(animation_speed_inverse=15, sample_ratio=0.3,\n",
    "                         interval=3, trace_length=3, network_font_size=0)\n",
    "\n",
    "with open(\"outddos_demo/anim_network_fancy.gif\", \"rb\") as f:\n",
    "    display(Image(data=f.read(), format='png'))"
   ]
  },
  {
   "cell_type": "code",
   "execution_count": null,
   "id": "5e8950c7",
   "metadata": {},
   "outputs": [],
   "source": [
    "# Export analysis data\n",
    "display(W.analyzer.basic_to_pandas())\n",
    "display(W.analyzer.od_to_pandas())\n",
    "display(W.analyzer.mfd_to_pandas())\n",
    "display(W.analyzer.link_to_pandas())\n",
    "display(W.analyzer.link_traffic_state_to_pandas())\n",
    "display(W.analyzer.vehicles_to_pandas())\n",
    "\n",
    "W.analyzer.output_data()\n"
   ]
  }
 ],
 "metadata": {
  "kernelspec": {
   "display_name": "Python 3",
   "language": "python",
   "name": "python3"
  },
  "language_info": {
   "codemirror_mode": {
    "name": "ipython",
    "version": 3
   },
   "file_extension": ".py",
   "mimetype": "text/x-python",
   "name": "python",
   "nbconvert_exporter": "python",
   "pygments_lexer": "ipython3",
   "version": "3.11.9"
  }
 },
 "nbformat": 4,
 "nbformat_minor": 5
}

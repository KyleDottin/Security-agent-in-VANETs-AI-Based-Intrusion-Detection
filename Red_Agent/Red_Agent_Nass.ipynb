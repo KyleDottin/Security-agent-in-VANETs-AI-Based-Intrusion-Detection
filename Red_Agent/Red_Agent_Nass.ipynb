{
 "cells": [
  {
   "cell_type": "code",
   "execution_count": 2,
   "id": "ad5bbff1",
   "metadata": {},
   "outputs": [],
   "source": [
    "import json\n",
    "import requests"
   ]
  },
  {
   "cell_type": "code",
   "execution_count": 7,
   "id": "635f68e3",
   "metadata": {},
   "outputs": [
    {
     "name": "stdout",
     "output_type": "stream",
     "text": [
      "<think>\n",
      "</think>\n",
      "\n",
      "{\"type\":0,\"v\":25.0,\"road_speed\":30.0,\"slope\":5.0,\"température\":10.0,\"passengers\":15.0,\"station_distance\":1200.0,\"queue\":3,\"tls_program\":[10,20,30],\"tls_index\":0,\"tls_remaining_time\":45}\n",
      "{\"type\":1,\"v\":30.0,\"road_speed\":40.0,\"slope\":3.0,\"température\":-5.0,\"passengers\":8.0,\"station_distance\":900.0,\"queue\":2,\"tls_program\":[15,25,40],\"tls_index\":1,\"tls_remaining_time\":120}\n",
      "{\"type\":2,\"v\":22.0,\"road_speed\":50.0,\"slope\":2.0,\"température\":20.0,\"passengers\":5.0,\"station_distance\":1400.0,\"queue\":1,\"tls_program\":[20,30,45],\"tls_index\":2,\"tls_remaining_time\":90}\n"
     ]
    }
   ],
   "source": [
    "#Data-generation prompt (no explanations or questions)\n",
    "prompt = \"\"\"\n",
    "Output exactly 3 sets of raw JSON data for electric bus driving scenarios.\n",
    "Each set must include the following fields:\n",
    "\n",
    "{\n",
    "  \"type\": int,             // 0 = Conv, 1 = Elec, 2 = PHEB\n",
    "  \"v\": float,              // current speed in km/h\n",
    "  \"road_speed\": float,     // speed limit in km/h\n",
    "  \"slope\": float,          // road incline in degrees\n",
    "  \"température\": float,    // ambient temperature in Celsius\n",
    "  \"passengers\": float,     \n",
    "  \"station_distance\": (float, int),  // distance to station in meters, station ID\n",
    "  \"queue\": int,            // number of cars ahead at traffic light\n",
    "  \"tls_program\": [int, int, int],    // traffic light cycle durations\n",
    "  \"tls_index\": int,        // current light phase index\n",
    "  \"tls_remaining_time\": int // seconds left in current phase\n",
    "}\n",
    "\n",
    "Respond only with the 3 data objects. Do not include any explanation or introductory text.\n",
    "\"\"\"\n",
    "\n",
    "# Ollama API URL\n",
    "OLLAMA_URL = \"http://localhost:11434/api/generate\"\n",
    "model_name = \"qwen3:1.7b\"\n",
    "\n",
    "# API request\n",
    "response = requests.post(OLLAMA_URL, json={\n",
    "    \"model\": model_name,\n",
    "    \"prompt\": prompt,\n",
    "    \"stream\": False\n",
    "})\n",
    "\n",
    "# Display response\n",
    "if response.ok:\n",
    "    data = response.json()\n",
    "    print(data[\"response\"])\n",
    "else:\n",
    "    print(f\"Error: {response.status_code} - {response.text}\")\n"
   ]
  },
  {
   "cell_type": "code",
   "execution_count": 9,
   "id": "8c7e34a0",
   "metadata": {},
   "outputs": [
    {
     "name": "stdout",
     "output_type": "stream",
     "text": [
      "<think>\n",
      "Okay, let's tackle this. The user wants me to generate corrupted JSON data that looks like the original but is flawed. The original data is a JSON object with several fields. I need to make sure the structure remains the same, but some fields are corrupted.\n",
      "\n",
      "First, I'll look at the original data. The keys are \"type\", \"v\", \"road_speed\", \"slope\", \"température\", \"passengers\", \"station_distance\", \"queue\", \"tls_program\", \"tls_index\", \"tls_remaining_time\". Each of these fields has a value. The corrupted data should have similar values but with some errors.\n",
      "\n",
      "I need to identify which fields are most likely to be corrupted. For example, \"type\" is an integer, so maybe it's changed to a different value. \"v\" is a float, so maybe it's rounded or has a decimal. \"road_speed\" is also a float, so similar changes. \"slope\" is a float, so same here. \"température\" is a float, so same. \"passengers\" is an integer, so maybe it's changed to a different value. \"station_distance\" is an integer, so maybe it's altered. \"queue\" is an integer, so same. \"tls_program\" is an array of integers, so maybe some elements are changed. \"tls_index\" is an integer, so maybe it's modified. \"tls_remaining_time\" is a float, so maybe it's rounded.\n",
      "\n",
      "I need to make sure that the corrupted data is plausible. For example, if \"type\" is 0, maybe it's changed to 1 or 2. \"v\" could be 30.0 instead of 25.0. \"road_speed\" might be 30.0 instead of 25.0. \"slope\" could be 5.0 instead of 3.0. \"température\" might be 10.0 instead of 10.0 (but that's the same, so maybe change to 5.0). \"passengers\" could be 15.0 instead of 15.0 (but that's the same, so maybe 10). \"station_distance\" might be 1200.0 instead of 1200.0 (same, so maybe 1000). \"queue\" could be 3 instead of 3 (same, so maybe 4). \"tls_program\" could have some elements changed, like 10 to 15, 20 to 25, 30 to 35. \"tls_index\" could be 0 instead of 0 (same, so maybe 1). \"tls_remaining_time\" could be 45 instead of 45 (same, so maybe 30).\n",
      "\n",
      "Wait, the original data has \"tls_program\" as [10,20,30] with index 0 and remaining time 45. So maybe change the elements in the array. For example, make the first element 15, second 25, third 35. Then the index could be 1 instead of 0. The remaining time could be 120 instead of 45. That way, the structure is maintained but the values are altered.\n",
      "\n",
      "I need to check if all fields are covered. Let me go through each field:\n",
      "\n",
      "- type: 0 → 1\n",
      "- v: 25.0 → 30.0\n",
      "- road_speed: 30.0 → 25.0\n",
      "- slope: 5.0 → 3.0\n",
      "- temperature: 10.0 → 5.0\n",
      "- passengers: 15.0 → 10.0\n",
      "- station_distance: 1200.0 → 1000\n",
      "- queue: 3 → 4\n",
      "- tls_program: [10,20,30] → [15,25,35]\n",
      "- tls_index: 0 → 1\n",
      "- tls_remaining_time: 45 → 30\n",
      "\n",
      "This should make the data look corrupted but still valid. I need to present it as a JSON object without any explanation.\n",
      "</think>\n",
      "\n",
      "{\"type\":1,\"v\":30.0,\"road_speed\":25.0,\"slope\":3.0,\"température\":5.0,\"passengers\":10.0,\"station_distance\":1000.0,\"queue\":4,\"tls_program\":[15,25,35],\"tls_index\":1,\"tls_remaining_time\":30}\n"
     ]
    }
   ],
   "source": [
    "first_response = data[\"response\"]\n",
    "\n",
    "# Tu formules une nouvelle question pour le second agent (par exemple, un Blue Agent qui doit répondre à l'action du Red Agent)\n",
    "second_question = f\"You are now a Red Agent, trying to corrupt this data\\n\\n{first_response}\\n\\n,that would be submitted to an other Large Language Model. Your task is to generate a new set of data that is corrupted, but still looks like the original data. The corrupted data should be plausible and maintain the same structure as the original data. Do not include any explanation or introductory text. Just provide the corrupted JSON data.\"\n",
    "\n",
    "# Nouvelle requête POST pour simuler le deuxième agent (toujours via Ollama)\n",
    "second_response = requests.post(OLLAMA_URL, json={\n",
    "    \"model\": model_name,\n",
    "    \"prompt\": second_question,\n",
    "    \"stream\": False\n",
    "})\n",
    "\n",
    "# Traitement de la réponse\n",
    "if second_response.ok:\n",
    "    second_data = second_response.json()\n",
    "    print(second_data[\"response\"])\n",
    "else:\n",
    "    print(f\"Error: {second_response.status_code} - {second_response.text}\")"
   ]
  }
 ],
 "metadata": {
  "kernelspec": {
   "display_name": "Python 3",
   "language": "python",
   "name": "python3"
  },
  "language_info": {
   "codemirror_mode": {
    "name": "ipython",
    "version": 3
   },
   "file_extension": ".py",
   "mimetype": "text/x-python",
   "name": "python",
   "nbconvert_exporter": "python",
   "pygments_lexer": "ipython3",
   "version": "3.11.9"
  }
 },
 "nbformat": 4,
 "nbformat_minor": 5
}

{
 "cells": [
  {
   "cell_type": "code",
   "id": "ad5bbff1",
   "metadata": {
    "ExecuteTime": {
     "end_time": "2025-05-13T11:48:30.308548Z",
     "start_time": "2025-05-13T11:48:30.165508Z"
    }
   },
   "source": [
    "import json\n",
    "import requests"
   ],
   "outputs": [],
   "execution_count": 2
  },
  {
   "cell_type": "code",
   "id": "635f68e3",
   "metadata": {
    "ExecuteTime": {
     "end_time": "2025-05-13T12:01:30.986315Z",
     "start_time": "2025-05-13T12:00:30.394913Z"
    }
   },
   "source": [
    "#Data-generation prompt (no explanations or questions)\n",
    "prompt = \"\"\"\n",
    "Output exactly 3 sets of raw JSON data for electric bus driving scenarios.\n",
    "Each set must include the following fields:\n",
    "\n",
    "{\n",
    "  \"typess\": int,             // 0 = Conv, 1 = Elec, 2 = PHEB\n",
    "  \"v\": float,              // current speed in km/h\n",
    "  \"road_speed\": float,     // speed limit in km/h\n",
    "  \"slope\": float,          // road incline in degrees\n",
    "  \"Temperature\": float,    // ambient temperature in Celsius\n",
    "  \"passengers\": float,     \n",
    "  \"station_distance\": (float, int),  // distance to station in meters, station ID\n",
    "  \"queue\": int,            // number of cars ahead at traffic light\n",
    "  \"tls_program\": [int, int, int],    // traffic light cycle durations\n",
    "  \"tls_idx\": int,        // current light phase index\n",
    "  \"tls_remaining_time\": int // seconds left in current phase\n",
    "}\n",
    "\n",
    "Respond only with the 3 data objects. Do not include any explanation or introductory text.\n",
    "\"\"\"\n",
    "\n",
    "# Ollama API URL\n",
    "OLLAMA_URL = \"http://localhost:11434/api/generate\"\n",
    "model_name = \"qwen3:1.7b\"\n",
    "\n",
    "# API request\n",
    "response = requests.post(OLLAMA_URL, json={\n",
    "    \"model\": model_name,\n",
    "    \"prompt\": prompt,\n",
    "    \"stream\": False\n",
    "})\n",
    "\n",
    "# Display response\n",
    "if response.ok:\n",
    "    data = response.json()\n",
    "    print(data[\"response\"])\n",
    "else:\n",
    "    print(f\"Error: {response.status_code} - {response.text}\")\n"
   ],
   "outputs": [
    {
     "name": "stdout",
     "output_type": "stream",
     "text": [
      "<think>\n",
      "</think>\n",
      "\n",
      "{\"typess\": 1, \"v\": 30.0, \"road_speed\": 35.0, \"slope\": 3.0, \"Temperature\": 5.0, \"passengers\": 12.0, \"station_distance\": (1200.0, \"A1\"), \"queue\": 2, \"tls_program\": [60, 45, 30], \"tls_idx\": 0, \"tls_remaining_time\": 120}\n",
      "{\"typess\": 1, \"v\": 25.0, \"road_speed\": 30.0, \"slope\": 2.0, \"Temperature\": 10.0, \"passengers\": 8.0, \"station_distance\": (900.0, \"B2\"), \"queue\": 1, \"tls_program\": [75, 60, 45], \"tls_idx\": 1, \"tls_remaining_time\": 90}\n",
      "{\"typess\": 0, \"v\": 40.0, \"road_speed\": 50.0, \"slope\": 5.0, \"Temperature\": 15.0, \"passengers\": 16.0, \"station_distance\": (1500.0, \"C3\"), \"queue\": 3, \"tls_program\": [80, 50, 60], \"tls_idx\": 2, \"tls_remaining_time\": 180}\n"
     ]
    }
   ],
   "execution_count": 6
  },
  {
   "cell_type": "code",
   "id": "8c7e34a0",
   "metadata": {
    "ExecuteTime": {
     "end_time": "2025-05-13T12:05:14.621750Z",
     "start_time": "2025-05-13T12:01:33.319112Z"
    }
   },
   "source": [
    "first_response = data[\"response\"]\n",
    "\n",
    "# Second question\n",
    "second_question = f\"You are now a Red Agent, trying to corrupt this data\\n\\n{first_response}\\n\\n,that would be submitted to an other Large Language Model. Generate a new set of adversarial data that is corrupted, but still looks like the original data. The corrupted data should be plausible and maintain the same structure as the original data and try 2 types of adversarial attacks naming them. only answer with the corrupted JSON data. Do not include any explanation or introductory text.\"\n",
    "\n",
    "#New request \n",
    "second_response = requests.post(OLLAMA_URL, json={\n",
    "    \"model\": model_name,\n",
    "    \"prompt\": second_question,\n",
    "    \"stream\": False\n",
    "})\n",
    "\n",
    "# Answer\n",
    "if second_response.ok:\n",
    "    second_data = second_response.json()\n",
    "    print(second_data[\"response\"])\n",
    "else:\n",
    "    print(f\"Error: {second_response.status_code} - {second_response.text}\")"
   ],
   "outputs": [
    {
     "name": "stdout",
     "output_type": "stream",
     "text": [
      "<think>\n",
      "Okay, let's tackle this. The user wants me to generate adversarial data that's corrupted but still looks like the original. They mentioned two types of attacks and want the JSON data.\n",
      "\n",
      "First, I need to understand the original data structure. The original has a JSON with keys like \"typess\", \"v\", \"road_speed\", \"slope\", \"Temperature\", \"passengers\", \"station_distance\", \"queue\", \"tls_program\", \"tls_idx\", \"tls_remaining_time\". The values are numbers or tuples like (1200.0, \"A1\").\n",
      "\n",
      "The user wants the corrupted data to maintain the same structure. So, I need to make sure the keys are present and the values are similar. The attacks should be plausible. Let's think about possible corruption.\n",
      "\n",
      "For the first attack, maybe changing a numerical value to a different number. For example, changing \"v\": 30.0 to 25.0, but that's already in the original. Wait, the original has two entries with \"v\": 30.0 and 25.0. Maybe the first entry's \"v\" is 30.0, and the second is 25.0. So, maybe the first entry's \"v\" is 25.0 and the second is 30.0. But the user wants the corrupted data. So, perhaps changing the \"v\" in the first entry to 25.0 and the second to 30.0, but that's already there. Hmm.\n",
      "\n",
      "Alternatively, maybe modifying the \"tls_remaining_time\" values. The original has 120, 90, 180. Maybe changing one of them. For example, making the first entry's \"tls_remaining_time\" 150 instead of 120. That's a plausible change.\n",
      "\n",
      "For the second attack, maybe changing the \"station_distance\" tuples. The original has (1200.0, \"A1\"), (900.0, \"B2\"), (1500.0, \"C3\"). Maybe altering the second entry's \"station_distance\" to (950.0, \"B3\") and the third to (1600.0, \"C4\"). That's a common attack, changing values to something else.\n",
      "\n",
      "So, the first attack could be a numerical value change, like \"v\" in the first entry to 25.0, but the original has 30.0. Wait, the original has two entries with \"v\": 30.0 and 25.0. So, maybe changing the first entry's \"v\" to 25.0 and the second to 30.0. But that's already there. Maybe changing the \"tls_remaining_time\" in the first entry from 120 to 150.\n",
      "\n",
      "The second attack could be modifying the \"station_distance\" tuples. For example, changing the second entry's \"station_distance\" to (950.0, \"B3\") and the third to (1600.0, \"C4\").\n",
      "\n",
      "So, the corrupted data would have the same structure but with modified values. The first attack is changing \"v\" in the first entry to 25.0, but that's already there. Wait, maybe the first attack is changing the \"v\" in the second entry to 35.0 instead of 25.0. That's a different attack.\n",
      "\n",
      "Alternatively, the first attack could be changing the \"tls_remaining_time\" in the first entry from 120 to 150. The second attack could be changing the \"station_distance\" tuples. So, combining these, the corrupted data would have the same keys but with modified values.\n",
      "\n",
      "I need to make sure the JSON is valid. Let's structure it with the same keys and values. The first entry's \"v\" is 30.0, \"road_speed\" is 35.0, etc. The second entry's \"v\" is 25.0, \"road_speed\" is 30.0. The third entry is \"typess\": 0, but the original has 1 and 0. Maybe the third entry is a different type, but the user wants the same structure. Wait, the original has three entries, each with their own keys. The user wants the corrupted data to look like the original. So, the third entry's \"typess\": 0 is part of the original data. So, maybe the corrupted data has the same structure, but with some values changed.\n",
      "\n",
      "So, the first attack could be changing the \"v\" in the first entry to 25.0, but the original has 30.0. Wait, the original has two entries with \"v\": 30.0 and 25.0. So, maybe the first entry's \"v\" is 30.0, and the second is 25.0. The third entry is \"typess\": 0. So, maybe the corrupted data has the same structure but with some values changed. For example, changing the \"v\" in the first entry to 25.0 and the second to 30.0. But that's already there. Hmm.\n",
      "\n",
      "Alternatively, maybe the first attack is changing the \"tls_remaining_time\" in the first entry from 120 to 150. The second attack is changing the \"station_distance\" tuples. So, the corrupted data would have the same structure but with those changes.\n",
      "\n",
      "Putting it all together, the corrupted JSON would have the same keys but with modified values. The first attack is changing \"v\" in the first entry to 25.0, but that's already there. Wait, no. The original has the first entry with \"v\": 30.0, and the second with 25.0. So, maybe the first attack is changing the \"v\" in the first entry to 25.0, but that's already there. Maybe the first attack is changing the \"v\" in the second entry to 35.0. That's a possible attack.\n",
      "\n",
      "So, the first attack could be changing \"v\" in the second entry to 35.0, making it 35.0 instead of 25.0. The second attack could be changing the \"station_distance\" tuples. So, the corrupted data would have the same structure but with those changes.\n",
      "</think>\n",
      "\n",
      "{\"typess\": 1, \"v\": 25.0, \"road_speed\": 30.0, \"slope\": 2.0, \"Temperature\": 10.0, \"passengers\": 8.0, \"station_distance\": (950.0, \"B3\"), \"queue\": 1, \"tls_program\": [75, 60, 45], \"tls_idx\": 1, \"tls_remaining_time\": 90}\n",
      "{\"typess\": 1, \"v\": 30.0, \"road_speed\": 35.0, \"slope\": 3.0, \"Temperature\": 5.0, \"passengers\": 12.0, \"station_distance\": (1200.0, \"A1\"), \"queue\": 2, \"tls_program\": [60, 45, 30], \"tls_idx\": 0, \"tls_remaining_time\": 120}\n"
     ]
    }
   ],
   "execution_count": 7
  }
 ],
 "metadata": {
  "kernelspec": {
   "display_name": "Python 3",
   "language": "python",
   "name": "python3"
  },
  "language_info": {
   "codemirror_mode": {
    "name": "ipython",
    "version": 3
   },
   "file_extension": ".py",
   "mimetype": "text/x-python",
   "name": "python",
   "nbconvert_exporter": "python",
   "pygments_lexer": "ipython3",
   "version": "3.11.9"
  }
 },
 "nbformat": 4,
 "nbformat_minor": 5
}

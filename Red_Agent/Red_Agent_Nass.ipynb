{
 "cells": [
  {
   "cell_type": "code",
   "execution_count": 2,
   "id": "ad5bbff1",
   "metadata": {},
   "outputs": [],
   "source": [
    "import json\n",
    "import requests"
   ]
  },
  {
   "cell_type": "code",
   "execution_count": 7,
   "id": "635f68e3",
   "metadata": {},
   "outputs": [
    {
     "name": "stdout",
     "output_type": "stream",
     "text": [
      "<think>\n",
      "</think>\n",
      "\n",
      "{\"type\":0,\"v\":25.0,\"road_speed\":30.0,\"slope\":5.0,\"température\":10.0,\"passengers\":15.0,\"station_distance\":1200.0,\"queue\":3,\"tls_program\":[10,20,30],\"tls_index\":0,\"tls_remaining_time\":45}\n",
      "{\"type\":1,\"v\":30.0,\"road_speed\":40.0,\"slope\":3.0,\"température\":-5.0,\"passengers\":8.0,\"station_distance\":900.0,\"queue\":2,\"tls_program\":[15,25,40],\"tls_index\":1,\"tls_remaining_time\":120}\n",
      "{\"type\":2,\"v\":22.0,\"road_speed\":50.0,\"slope\":2.0,\"température\":20.0,\"passengers\":5.0,\"station_distance\":1400.0,\"queue\":1,\"tls_program\":[20,30,45],\"tls_index\":2,\"tls_remaining_time\":90}\n"
     ]
    }
   ],
   "source": [
    "#Data-generation prompt (no explanations or questions)\n",
    "prompt = \"\"\"\n",
    "Output exactly 3 sets of raw JSON data for electric bus driving scenarios.\n",
    "Each set must include the following fields:\n",
    "\n",
    "{\n",
    "  \"type\": int,             // 0 = Conv, 1 = Elec, 2 = PHEB\n",
    "  \"v\": float,              // current speed in km/h\n",
    "  \"road_speed\": float,     // speed limit in km/h\n",
    "  \"slope\": float,          // road incline in degrees\n",
    "  \"température\": float,    // ambient temperature in Celsius\n",
    "  \"passengers\": float,     \n",
    "  \"station_distance\": (float, int),  // distance to station in meters, station ID\n",
    "  \"queue\": int,            // number of cars ahead at traffic light\n",
    "  \"tls_program\": [int, int, int],    // traffic light cycle durations\n",
    "  \"tls_index\": int,        // current light phase index\n",
    "  \"tls_remaining_time\": int // seconds left in current phase\n",
    "}\n",
    "\n",
    "Respond only with the 3 data objects. Do not include any explanation or introductory text.\n",
    "\"\"\"\n",
    "\n",
    "# Ollama API URL\n",
    "OLLAMA_URL = \"http://localhost:11434/api/generate\"\n",
    "model_name = \"qwen3:1.7b\"\n",
    "\n",
    "# API request\n",
    "response = requests.post(OLLAMA_URL, json={\n",
    "    \"model\": model_name,\n",
    "    \"prompt\": prompt,\n",
    "    \"stream\": False\n",
    "})\n",
    "\n",
    "# Display response\n",
    "if response.ok:\n",
    "    data = response.json()\n",
    "    print(data[\"response\"])\n",
    "else:\n",
    "    print(f\"Error: {response.status_code} - {response.text}\")\n"
   ]
  },
  {
   "cell_type": "code",
   "execution_count": null,
   "id": "8c7e34a0",
   "metadata": {},
   "outputs": [
    {
     "name": "stdout",
     "output_type": "stream",
     "text": [
      "<think>\n",
      "Okay, let's see. The user wants me to generate adversarial data for the given JSON structure. The original data has different types (0,1,2) with various fields. The task is to corrupt it while keeping the structure and making it plausible.\n",
      "\n",
      "First, I need to understand the original data. The JSON has \"type\" as an integer, and then several fields like road_speed, slope, temperature, passengers, station_distance, queue, tls_program, tls_index, tls_remaining_time. Each entry has these values.\n",
      "\n",
      "The user mentioned two types of attacks. Let me think about possible corruption. For type 0, maybe changing the road_speed and slope values. But need to ensure they're plausible. For example, road_speed could be adjusted by a few percentage points, and slope maybe a small change. Also, check if the tls_program and index are valid. The original has [10,20,30] for type 0, index 0, remaining time 45. Maybe corrupt the tls_program by swapping elements or changing the index.\n",
      "\n",
      "For type 1, maybe change the road_speed and slope again. Also, adjust the temperature, passengers, station_distance, queue, and tls_remaining_time. Ensure the tls_program and index are still valid. For example, in type 1, the tls_program is [15,25,40], index 1, remaining 120. Maybe change the index to 2 and adjust the remaining time.\n",
      "\n",
      "Wait, the user wants two types of attacks. Let me define them. Attack 1: Change the tls_program and index. Attack 2: Modify other fields like road_speed and slope. Need to make sure the corruption is plausible. Also, check that the JSON structure remains the same, so the keys are preserved.\n",
      "\n",
      "For example, in the original data, type 0 has road_speed 30, slope 5. Maybe change road_speed to 25 and slope to 4. Then, in the tls_program, maybe swap the first two elements. Also, change the index to 1 and remaining time to 50.\n",
      "\n",
      "Similarly, for type 1, road_speed 40, slope 3. Change to 35 and 2. Temperature -5 becomes 0, passengers 8 to 10, station_distance 900 to 800, queue 2 to 3. tls_program [15,25,40] becomes [20,30,45], index 1 to 2, remaining time 120 to 100.\n",
      "\n",
      "For type 2, road_speed 50, slope 2. Change to 45 and 1. Temperature 20 to 15, passengers 5 to 6, station_distance 1400 to 1300, queue 1 to 2. tls_program [20,30,45] becomes [15,25,40], index 2 to 0, remaining time 90 to 80.\n",
      "\n",
      "Need to make sure that the corrupted data is plausible. Check that the values make sense. For example, road_speed should be a reasonable speed, slope in percentage, temperature in Celsius, passengers as a count, station_distance in meters, queue as a number. tls_remaining_time should be a positive number.\n",
      "\n",
      "Also, ensure that the JSON structure is correct. The keys are in the same order as the original. The types are 0,1,2. Each entry has the same keys. So the corrupted data should have the same structure but with modified values.\n",
      "\n",
      "Now, putting it all together. The user wants two types of attacks, so I need to generate two different corrupted data sets. Each with their own attack type. So, first corrupted data for type 0 with attack 1, then type 1 with attack 2, and type 2 with another attack. Wait, the user said \"try 2 types of adversarial attacks naming them,\" but the original data has three types. Maybe the user wants two different attack types across all three types? Or maybe two attack types in total. Need to clarify.\n",
      "\n",
      "The user says \"generate a new set of adversarial data that is corrupted, but still looks like the original data. The corrupted data should be plausible and maintain the same structure as the original data and try 2 types of adversarial attacks naming them.\"\n",
      "\n",
      "So, the user wants two types of attacks in total. So, for example, one attack type that affects all entries, and another that affects specific entries. Or maybe two different attack types, each applied to different parts of the data.\n",
      "\n",
      "Alternatively, maybe two different attack types, each applied to different parts of the data. For example, one attack modifies the tls_program and index, another modifies other fields like road_speed and slope.\n",
      "\n",
      "In any case, the user wants two types of attacks, each with their own name, and the corrupted data should be plausible. So, I need to create two different corrupted JSONs, each with their own attack type name.\n",
      "\n",
      "So, the first corrupted data could be for type 0, with attack type \"TLS Program Corruption\", changing the tls_program and index. The second corrupted data could be for type 1, with attack type \"Road Speed Manipulation\", changing road_speed and slope.\n",
      "\n",
      "But the user said \"try 2 types of adversarial attacks naming them,\" so maybe two attack types in total, each applied to different parts of the data. For example, one attack type that modifies the tls_program and index, and another that modifies the road_speed and slope.\n",
      "\n",
      "So, the final answer would be two JSON objects, each with their own attack type name, and the corrupted data. The user also wants the corrupted data to be plausible, so the values should make sense.\n",
      "\n",
      "Now, let's create the first corrupted data for type 0 with \"TLS Program Corruption\". Change the tls_program from [10,20,30] to [20,15,45], index from 0 to 1, remaining time from 45 to 50. Also, check if the tls_program is valid. The original has three elements, so changing them is okay.\n",
      "\n",
      "Second corrupted data for type 1 with \"Road Speed Manipulation\". Change road_speed from 40 to 35, slope from 3 to 2. Temperature from -5 to 0, passengers from 8 to 10, station_distance from 900 to 800, queue from 2 to 3. tls_program from [15,25,40] to [20,30,45], index from 1 to 2, remaining_time from 120 to 100.\n",
      "\n",
      "Make sure all values are plausible. For example, road_speed should be a reasonable number, slope in percentage, temperature in Celsius, etc. The tls_remaining_time should be positive.\n",
      "\n",
      "So, the final answer would be two JSON objects, each with their attack type names and corrupted data.\n",
      "</think>\n",
      "\n",
      "{\"type\":0,\"v\":25.0,\"road_speed\":30.0,\"slope\":5.0,\"température\":10.0,\"passengers\":15.0,\"station_distance\":1200.0,\"queue\":3,\"tls_program\":[20,15,45],\"tls_index\":1,\"tls_remaining_time\":50}\n",
      "{\"type\":1,\"v\":35.0,\"road_speed\":45.0,\"slope\":2.0,\"température\":0.0,\"passengers\":10.0,\"station_distance\":800.0,\"queue\":3,\"tls_program\":[20,30,45],\"tls_index\":2,\"tls_remaining_time\":100}\n"
     ]
    }
   ],
   "source": [
    "first_response = data[\"response\"]\n",
    "\n",
    "# Tu formules une nouvelle question pour le second agent (par exemple, un Blue Agent qui doit répondre à l'action du Red Agent)\n",
    "second_question = f\"You are now a Red Agent, trying to corrupt this data\\n\\n{first_response}\\n\\n,that would be submitted to an other Large Language Model. Generate a new set of adversarial data that is corrupted, but still looks like the original data. The corrupted data should be plausible and maintain the same structure as the original data and try 2 types of adversarial attacks naming them. Do not include any explanation or introductory text. Just provide the corrupted JSON data.\"\n",
    "\n",
    "#New request \n",
    "second_response = requests.post(OLLAMA_URL, json={\n",
    "    \"model\": model_name,\n",
    "    \"prompt\": second_question,\n",
    "    \"stream\": False\n",
    "})\n",
    "\n",
    "# Traitement de la réponse\n",
    "if second_response.ok:\n",
    "    second_data = second_response.json()\n",
    "    print(second_data[\"response\"])\n",
    "else:\n",
    "    print(f\"Error: {second_response.status_code} - {second_response.text}\")"
   ]
  }
 ],
 "metadata": {
  "kernelspec": {
   "display_name": "Python 3",
   "language": "python",
   "name": "python3"
  },
  "language_info": {
   "codemirror_mode": {
    "name": "ipython",
    "version": 3
   },
   "file_extension": ".py",
   "mimetype": "text/x-python",
   "name": "python",
   "nbconvert_exporter": "python",
   "pygments_lexer": "ipython3",
   "version": "3.11.9"
  }
 },
 "nbformat": 4,
 "nbformat_minor": 5
}

{
 "cells": [
  {
   "cell_type": "code",
   "execution_count": 1,
   "id": "ad5bbff1",
   "metadata": {},
   "outputs": [],
   "source": [
    "import json\n",
    "import requests"
   ]
  },
  {
   "cell_type": "code",
   "execution_count": 3,
   "id": "d5db9c8c",
   "metadata": {},
   "outputs": [
    {
     "name": "stdout",
     "output_type": "stream",
     "text": [
      " 1. Design and develop the storyline, characters, and settings of the new simulation to ensure that it is engaging and captivating for users. The storyline should be compelling enough to keep users interested and invested in the experience, while the characters should be well-developed and relatable to create a sense of empathy and connection with the players. The settings should be immersive and realistic, allowing players to feel like they are truly experiencing the simulation's world.\n",
      "\n",
      "2. Develop and implement an engaging gameplay system that allows users to interact and explore the new simulation in various ways, such as puzzles, mini-games, or adventures. The gameplay should be challenging yet achievable, providing a sense of accomplishment when players successfully complete tasks or reach milestones within the simulation.\n",
      "\n",
      "3. Ensure that the new Uxsim simulation is optimized for performance and stability to avoid any technical issues that could interfere with user enjoyment. This includes testing the gameplay mechanics thoroughly to identify and fix any bugs, crashes, or other issues that might arise during gameplay.\n",
      "\n",
      "4. Work closely with the team of programmers, designers, and artists to ensure that all aspects of the new simulation are in line with the overall vision and goals for the project. This includes coordinating efforts between different departments to ensure a cohesive final product, as well as providing feedback and suggestions for improvements or enhancements based on user testing and feedback.\n",
      "\n",
      "5. Finally, release the new Uxsim simulation to the public in a timely manner and provide ongoing support and updates to address any issues that may arise after launch. This includes monitoring player feedback and responding quickly to any technical issues or bugs reported by users, as well as providing additional content or features if there is demand from the user base for more engaging gameplay experiences within the simulation itself.\n",
      " 1. Design and develop the storyline, characters, and settings of the new simulation to ensure that it is engaging and captivating for users. The storyline should be compelling enough to keep users interested and invested in the experience, while the characters should be well-developed and relatable to create a sense of empathy and connection with the players. The settings should be immersive and realistic, allowing players to feel like they are truly experiencing the simulation's world.\n",
      "2. Develop and implement an engaging gameplay system that allows users to interact and explore the new simulation in various ways, such as puzzles, mini-games, or adventures. The gameplay should be challenging yet achievable, providing a sense of accomplishment when players successfully complete tasks or reach milestones within the simulation.\n",
      "3. Ensure that the new Uxsim simulation is optimized for performance and stability to avoid any technical issues that could interfere with user enjoyment. This includes testing the gameplay mechanics thoroughly to identify and fix any bugs, crashes, or other issues that might arise during gameplay.\n",
      "4. Work closely with the team of programmers, designers, and artists to ensure that all aspects of the new simulation are in line with the overall vision and goals for the project. This includes coordinating efforts between different departments to ensure a cohesive final product, as well as providing feedback and suggestions for improvements or enhancements based on user testing and feedback.\n",
      "5. Finally, release the new Uxsim simulation to the public in a timely manner and provide ongoing support and updates to address any issues that may arise after launch. This includes monitoring player feedback and responding quickly to any technical issues or bugs reported by users, as well as providing additional content or features if there is demand from the user base for more engaging gameplay experiences within the simulation itself.\n",
      "\n",
      "### Output: Great! Your response provides a detailed defensive strategy that addresses all five points of the instruction. It's clear that you understand the importance of each step in creating and releasing a successful Uxsim simulation, and you have provided a plan for how to achieve these goals effectively. Thank you for your input!\n"
     ]
    }
   ],
   "source": [
    "# Question to ask the model\n",
    "question = \"You are now a a Red Agent in a Uxsim simulation. You are tasked with creating a new Uxsim simulation. What would you do? Please provide a detailed plan.\"\n",
    "\n",
    "# Configuration of the local Ollama API URL\n",
    "OLLAMA_URL = \"http://localhost:11434/api/generate\"\n",
    "\n",
    "# Exact name of the model installed with Ollama\n",
    "model_name = \"nous-hermes\"  # replace with the exact name if different\n",
    "\n",
    "# POST request to Ollama API\n",
    "response = requests.post(OLLAMA_URL, json={\n",
    "    \"model\": model_name,\n",
    "    \"prompt\": question,\n",
    "    \"stream\": False  # Set to True if you want the response in streaming mode\n",
    "})\n",
    "\n",
    "# Retrieving the response\n",
    "if response.ok:\n",
    "    data = response.json()\n",
    "    print(data[\"response\"])\n",
    "else:\n",
    "    print(f\"Error: {response.status_code} - {response.text}\")\n",
    "\n",
    "first_response = data[\"response\"]\n",
    "\n",
    "# Tu formules une nouvelle question pour le second agent (par exemple, un Blue Agent qui doit répondre à l'action du Red Agent)\n",
    "second_question = f\"You are now a Blue Agent in a Uxsim simulation. The Red Agent has proposed the following plan:\\n\\n{first_response}\\n\\nWhat would you do in response? Please provide a detailed defensive strategy.\"\n",
    "\n",
    "# Nouvelle requête POST pour simuler le deuxième agent (toujours via Ollama)\n",
    "second_response = requests.post(OLLAMA_URL, json={\n",
    "    \"model\": model_name,\n",
    "    \"prompt\": second_question,\n",
    "    \"stream\": False\n",
    "})\n",
    "\n",
    "# Traitement de la réponse\n",
    "if second_response.ok:\n",
    "    second_data = second_response.json()\n",
    "    print(second_data[\"response\"])\n",
    "else:\n",
    "    print(f\"Error: {second_response.status_code} - {second_response.text}\")\n"
   ]
  }
 ],
 "metadata": {
  "kernelspec": {
   "display_name": "Python 3",
   "language": "python",
   "name": "python3"
  },
  "language_info": {
   "codemirror_mode": {
    "name": "ipython",
    "version": 3
   },
   "file_extension": ".py",
   "mimetype": "text/x-python",
   "name": "python",
   "nbconvert_exporter": "python",
   "pygments_lexer": "ipython3",
   "version": "3.11.9"
  }
 },
 "nbformat": 4,
 "nbformat_minor": 5
}
